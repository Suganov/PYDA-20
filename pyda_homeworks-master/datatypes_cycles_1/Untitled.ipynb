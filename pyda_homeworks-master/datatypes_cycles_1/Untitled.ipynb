{
 "cells": [
  {
   "cell_type": "code",
   "execution_count": 1,
   "metadata": {},
   "outputs": [],
   "source": [
    "people = {1: {'name': 'Oleg', 'age': '29', 'sex': 'Male'}, 2: {'name': 'Kate', 'age': '21', 'sex': 'Female'}, 3: {'name': 'Liza', 'age': '24', 'sex': 'Female'}, 4: {'name': 'Pavel', 'age': '36', 'sex': 'Male'}}"
   ]
  },
  {
   "cell_type": "code",
   "execution_count": 5,
   "metadata": {},
   "outputs": [],
   "source": [
    "geo_logs = [ {'visit1': ['Москва', 'Россия']}, \n",
    "  {'visit2': ['Дели', 'Индия']}, \n",
    "  {'visit3': ['Владимир', 'Россия']}, \n",
    "  {'visit4': ['Лиссабон', 'Португалия']}, \n",
    "  {'visit5': ['Париж', 'Франция']}, \n",
    "  {'visit6': ['Лиссабон', 'Португалия']}, \n",
    "  {'visit7': ['Тула', 'Россия']}, \n",
    "  {'visit8': ['Тула', 'Россия']},  \n",
    "  {'visit9': ['Курск', 'Россия']},  \n",
    "  {'visit10': ['Архангельск', 'Россия']} ]"
   ]
  },
  {
   "cell_type": "code",
   "execution_count": 6,
   "metadata": {},
   "outputs": [
    {
     "name": "stdout",
     "output_type": "stream",
     "text": [
      "[{'visit1': ['Москва', 'Россия']}, {'visit3': ['Владимир', 'Россия']}, {'visit7': ['Тула', 'Россия']}, {'visit8': ['Тула', 'Россия']}, {'visit9': ['Курск', 'Россия']}, {'visit10': ['Архангельск', 'Россия']}]\n"
     ]
    }
   ],
   "source": [
    "param = 'Россия'\n",
    "a = list(filter(lambda x: param in list(x.values())[0],geo_logs))\n",
    "print(a)"
   ]
  },
  {
   "cell_type": "code",
   "execution_count": null,
   "metadata": {},
   "outputs": [],
   "source": []
  }
 ],
 "metadata": {
  "kernelspec": {
   "display_name": "Python 3",
   "language": "python",
   "name": "python3"
  },
  "language_info": {
   "codemirror_mode": {
    "name": "ipython",
    "version": 3
   },
   "file_extension": ".py",
   "mimetype": "text/x-python",
   "name": "python",
   "nbconvert_exporter": "python",
   "pygments_lexer": "ipython3",
   "version": "3.7.8"
  }
 },
 "nbformat": 4,
 "nbformat_minor": 4
}
